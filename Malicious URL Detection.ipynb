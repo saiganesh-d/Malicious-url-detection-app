{
 "cells": [
  {
   "cell_type": "code",
   "execution_count": 433,
   "id": "869814eb",
   "metadata": {},
   "outputs": [],
   "source": [
    "import pandas as pd\n",
    "import numpy as np\n",
    "import klib\n",
    "from sklearn.utils import shuffle\n",
    "import validators"
   ]
  },
  {
   "cell_type": "code",
   "execution_count": 434,
   "id": "51e7e844",
   "metadata": {},
   "outputs": [
    {
     "data": {
      "text/html": [
       "<div>\n",
       "<style scoped>\n",
       "    .dataframe tbody tr th:only-of-type {\n",
       "        vertical-align: middle;\n",
       "    }\n",
       "\n",
       "    .dataframe tbody tr th {\n",
       "        vertical-align: top;\n",
       "    }\n",
       "\n",
       "    .dataframe thead th {\n",
       "        text-align: right;\n",
       "    }\n",
       "</style>\n",
       "<table border=\"1\" class=\"dataframe\">\n",
       "  <thead>\n",
       "    <tr style=\"text-align: right;\">\n",
       "      <th></th>\n",
       "      <th>Unnamed: 0</th>\n",
       "      <th>url</th>\n",
       "      <th>label</th>\n",
       "      <th>result</th>\n",
       "    </tr>\n",
       "  </thead>\n",
       "  <tbody>\n",
       "    <tr>\n",
       "      <th>0</th>\n",
       "      <td>0</td>\n",
       "      <td>https://www.google.com</td>\n",
       "      <td>benign</td>\n",
       "      <td>0</td>\n",
       "    </tr>\n",
       "    <tr>\n",
       "      <th>1</th>\n",
       "      <td>1</td>\n",
       "      <td>https://www.youtube.com</td>\n",
       "      <td>benign</td>\n",
       "      <td>0</td>\n",
       "    </tr>\n",
       "    <tr>\n",
       "      <th>2</th>\n",
       "      <td>2</td>\n",
       "      <td>https://www.facebook.com</td>\n",
       "      <td>benign</td>\n",
       "      <td>0</td>\n",
       "    </tr>\n",
       "    <tr>\n",
       "      <th>3</th>\n",
       "      <td>3</td>\n",
       "      <td>https://www.baidu.com</td>\n",
       "      <td>benign</td>\n",
       "      <td>0</td>\n",
       "    </tr>\n",
       "    <tr>\n",
       "      <th>4</th>\n",
       "      <td>4</td>\n",
       "      <td>https://www.wikipedia.org</td>\n",
       "      <td>benign</td>\n",
       "      <td>0</td>\n",
       "    </tr>\n",
       "  </tbody>\n",
       "</table>\n",
       "</div>"
      ],
      "text/plain": [
       "   Unnamed: 0                        url   label  result\n",
       "0           0     https://www.google.com  benign       0\n",
       "1           1    https://www.youtube.com  benign       0\n",
       "2           2   https://www.facebook.com  benign       0\n",
       "3           3      https://www.baidu.com  benign       0\n",
       "4           4  https://www.wikipedia.org  benign       0"
      ]
     },
     "execution_count": 434,
     "metadata": {},
     "output_type": "execute_result"
    }
   ],
   "source": [
    "# load the data from csv file\n",
    "df = pd.read_csv('urldata.csv')\n",
    "df.head()"
   ]
  },
  {
   "cell_type": "markdown",
   "id": "31b797c9",
   "metadata": {},
   "source": [
    "# Data Preprocessing"
   ]
  },
  {
   "cell_type": "code",
   "execution_count": 435,
   "id": "e4613052",
   "metadata": {},
   "outputs": [
    {
     "data": {
      "text/html": [
       "<div>\n",
       "<style scoped>\n",
       "    .dataframe tbody tr th:only-of-type {\n",
       "        vertical-align: middle;\n",
       "    }\n",
       "\n",
       "    .dataframe tbody tr th {\n",
       "        vertical-align: top;\n",
       "    }\n",
       "\n",
       "    .dataframe thead th {\n",
       "        text-align: right;\n",
       "    }\n",
       "</style>\n",
       "<table border=\"1\" class=\"dataframe\">\n",
       "  <thead>\n",
       "    <tr style=\"text-align: right;\">\n",
       "      <th></th>\n",
       "      <th>Unnamed: 0</th>\n",
       "      <th>url</th>\n",
       "      <th>label</th>\n",
       "      <th>result</th>\n",
       "    </tr>\n",
       "  </thead>\n",
       "  <tbody>\n",
       "    <tr>\n",
       "      <th>25107</th>\n",
       "      <td>25107</td>\n",
       "      <td>https://www.dotconnectorblog.com/inspirational...</td>\n",
       "      <td>benign</td>\n",
       "      <td>0</td>\n",
       "    </tr>\n",
       "    <tr>\n",
       "      <th>71683</th>\n",
       "      <td>71683</td>\n",
       "      <td>https://www.mhpstrong.com/MHP/athletes/strongm...</td>\n",
       "      <td>benign</td>\n",
       "      <td>0</td>\n",
       "    </tr>\n",
       "    <tr>\n",
       "      <th>335824</th>\n",
       "      <td>335824</td>\n",
       "      <td>https://www.youtube.com/watch?v=m0oikdh7Z7Y</td>\n",
       "      <td>benign</td>\n",
       "      <td>0</td>\n",
       "    </tr>\n",
       "    <tr>\n",
       "      <th>339417</th>\n",
       "      <td>339417</td>\n",
       "      <td>https://www.lexmark.com/en_US/</td>\n",
       "      <td>benign</td>\n",
       "      <td>0</td>\n",
       "    </tr>\n",
       "    <tr>\n",
       "      <th>270563</th>\n",
       "      <td>270563</td>\n",
       "      <td>https://www.paperbackswap.com/Lullabies-Little...</td>\n",
       "      <td>benign</td>\n",
       "      <td>0</td>\n",
       "    </tr>\n",
       "  </tbody>\n",
       "</table>\n",
       "</div>"
      ],
      "text/plain": [
       "        Unnamed: 0                                                url   label  \\\n",
       "25107        25107  https://www.dotconnectorblog.com/inspirational...  benign   \n",
       "71683        71683  https://www.mhpstrong.com/MHP/athletes/strongm...  benign   \n",
       "335824      335824        https://www.youtube.com/watch?v=m0oikdh7Z7Y  benign   \n",
       "339417      339417                     https://www.lexmark.com/en_US/  benign   \n",
       "270563      270563  https://www.paperbackswap.com/Lullabies-Little...  benign   \n",
       "\n",
       "        result  \n",
       "25107        0  \n",
       "71683        0  \n",
       "335824       0  \n",
       "339417       0  \n",
       "270563       0  "
      ]
     },
     "execution_count": 435,
     "metadata": {},
     "output_type": "execute_result"
    }
   ],
   "source": [
    "# shuffle data\n",
    "df = shuffle(df)\n",
    "df.head()"
   ]
  },
  {
   "cell_type": "code",
   "execution_count": 436,
   "id": "01d80484",
   "metadata": {},
   "outputs": [
    {
     "data": {
      "text/html": [
       "<div>\n",
       "<style scoped>\n",
       "    .dataframe tbody tr th:only-of-type {\n",
       "        vertical-align: middle;\n",
       "    }\n",
       "\n",
       "    .dataframe tbody tr th {\n",
       "        vertical-align: top;\n",
       "    }\n",
       "\n",
       "    .dataframe thead th {\n",
       "        text-align: right;\n",
       "    }\n",
       "</style>\n",
       "<table border=\"1\" class=\"dataframe\">\n",
       "  <thead>\n",
       "    <tr style=\"text-align: right;\">\n",
       "      <th></th>\n",
       "      <th>index</th>\n",
       "      <th>url</th>\n",
       "      <th>label</th>\n",
       "      <th>result</th>\n",
       "    </tr>\n",
       "  </thead>\n",
       "  <tbody>\n",
       "    <tr>\n",
       "      <th>25107</th>\n",
       "      <td>25107</td>\n",
       "      <td>https://www.dotconnectorblog.com/inspirational...</td>\n",
       "      <td>benign</td>\n",
       "      <td>0</td>\n",
       "    </tr>\n",
       "    <tr>\n",
       "      <th>71683</th>\n",
       "      <td>71683</td>\n",
       "      <td>https://www.mhpstrong.com/MHP/athletes/strongm...</td>\n",
       "      <td>benign</td>\n",
       "      <td>0</td>\n",
       "    </tr>\n",
       "    <tr>\n",
       "      <th>335824</th>\n",
       "      <td>335824</td>\n",
       "      <td>https://www.youtube.com/watch?v=m0oikdh7Z7Y</td>\n",
       "      <td>benign</td>\n",
       "      <td>0</td>\n",
       "    </tr>\n",
       "    <tr>\n",
       "      <th>339417</th>\n",
       "      <td>339417</td>\n",
       "      <td>https://www.lexmark.com/en_US/</td>\n",
       "      <td>benign</td>\n",
       "      <td>0</td>\n",
       "    </tr>\n",
       "    <tr>\n",
       "      <th>270563</th>\n",
       "      <td>270563</td>\n",
       "      <td>https://www.paperbackswap.com/Lullabies-Little...</td>\n",
       "      <td>benign</td>\n",
       "      <td>0</td>\n",
       "    </tr>\n",
       "  </tbody>\n",
       "</table>\n",
       "</div>"
      ],
      "text/plain": [
       "         index                                                url   label  \\\n",
       "25107    25107  https://www.dotconnectorblog.com/inspirational...  benign   \n",
       "71683    71683  https://www.mhpstrong.com/MHP/athletes/strongm...  benign   \n",
       "335824  335824        https://www.youtube.com/watch?v=m0oikdh7Z7Y  benign   \n",
       "339417  339417                     https://www.lexmark.com/en_US/  benign   \n",
       "270563  270563  https://www.paperbackswap.com/Lullabies-Little...  benign   \n",
       "\n",
       "        result  \n",
       "25107        0  \n",
       "71683        0  \n",
       "335824       0  \n",
       "339417       0  \n",
       "270563       0  "
      ]
     },
     "execution_count": 436,
     "metadata": {},
     "output_type": "execute_result"
    }
   ],
   "source": [
    "# rename index column\n",
    "df = df.rename(columns={\"Unnamed: 0\":\"index\"})\n",
    "df.head()"
   ]
  },
  {
   "cell_type": "code",
   "execution_count": 437,
   "id": "8cbf510b",
   "metadata": {},
   "outputs": [
    {
     "data": {
      "text/plain": [
       "(450176, 4)"
      ]
     },
     "execution_count": 437,
     "metadata": {},
     "output_type": "execute_result"
    }
   ],
   "source": [
    "df.shape"
   ]
  },
  {
   "cell_type": "code",
   "execution_count": 438,
   "id": "3232d827",
   "metadata": {},
   "outputs": [
    {
     "name": "stdout",
     "output_type": "stream",
     "text": [
      "<class 'pandas.core.frame.DataFrame'>\n",
      "Int64Index: 450176 entries, 25107 to 428468\n",
      "Data columns (total 4 columns):\n",
      " #   Column  Non-Null Count   Dtype \n",
      "---  ------  --------------   ----- \n",
      " 0   index   450176 non-null  int64 \n",
      " 1   url     450176 non-null  object\n",
      " 2   label   450176 non-null  object\n",
      " 3   result  450176 non-null  int64 \n",
      "dtypes: int64(2), object(2)\n",
      "memory usage: 17.2+ MB\n"
     ]
    }
   ],
   "source": [
    "df.info()"
   ]
  },
  {
   "cell_type": "code",
   "execution_count": 439,
   "id": "8220a280",
   "metadata": {},
   "outputs": [
    {
     "name": "stdout",
     "output_type": "stream",
     "text": [
      "<class 'pandas.core.frame.DataFrame'>\n",
      "Int64Index: 450176 entries, 25107 to 428468\n",
      "Data columns (total 4 columns):\n",
      " #   Column  Non-Null Count   Dtype   \n",
      "---  ------  --------------   -----   \n",
      " 0   index   450176 non-null  int32   \n",
      " 1   url     450176 non-null  string  \n",
      " 2   label   450176 non-null  category\n",
      " 3   result  450176 non-null  int8    \n",
      "dtypes: category(1), int32(1), int8(1), string(1)\n",
      "memory usage: 9.4 MB\n"
     ]
    }
   ],
   "source": [
    "# using klib to convert existing dtypes to more efficient dtypes\n",
    "df = klib.convert_datatypes(df)\n",
    "df.info()"
   ]
  },
  {
   "cell_type": "code",
   "execution_count": 440,
   "id": "7dbf13c3",
   "metadata": {},
   "outputs": [
    {
     "data": {
      "text/plain": [
       "0"
      ]
     },
     "execution_count": 440,
     "metadata": {},
     "output_type": "execute_result"
    }
   ],
   "source": [
    "df.isnull().sum().sum()"
   ]
  },
  {
   "cell_type": "code",
   "execution_count": 441,
   "id": "96de67f7",
   "metadata": {},
   "outputs": [
    {
     "data": {
      "text/plain": [
       "450176"
      ]
     },
     "execution_count": 441,
     "metadata": {},
     "output_type": "execute_result"
    }
   ],
   "source": [
    "df['url'].nunique() "
   ]
  },
  {
   "cell_type": "code",
   "execution_count": 442,
   "id": "7a91a1f5",
   "metadata": {},
   "outputs": [
    {
     "data": {
      "text/plain": [
       "0    345738\n",
       "1    104438\n",
       "Name: result, dtype: int64"
      ]
     },
     "execution_count": 442,
     "metadata": {},
     "output_type": "execute_result"
    }
   ],
   "source": [
    "df['result'].value_counts()"
   ]
  },
  {
   "cell_type": "code",
   "execution_count": 443,
   "id": "fcb81641",
   "metadata": {},
   "outputs": [],
   "source": [
    "# Class count\n",
    "count_class_0, count_class_1 = df.result.value_counts()\n",
    "\n",
    "# Divide by class\n",
    "df_class_0 = df[df['result'] == 0]\n",
    "df_class_1 = df[df['result'] == 1]"
   ]
  },
  {
   "cell_type": "code",
   "execution_count": 444,
   "id": "ef27d3dc",
   "metadata": {},
   "outputs": [
    {
     "name": "stdout",
     "output_type": "stream",
     "text": [
      "Random over-sampling:\n",
      "0    345738\n",
      "1    345738\n",
      "Name: result, dtype: int64\n"
     ]
    }
   ],
   "source": [
    "# oversample 1-class and concat the DataFrames of both classes\n",
    "\n",
    "df_class_1_over = df_class_1.sample(count_class_0, replace=True)\n",
    "df_over = pd.concat([df_class_0, df_class_1_over], axis=0)\n",
    "\n",
    "print('Random over-sampling:')\n",
    "print(df_over.result.value_counts())"
   ]
  },
  {
   "cell_type": "code",
   "execution_count": 445,
   "id": "90ca1f6e",
   "metadata": {},
   "outputs": [],
   "source": [
    "df_over = shuffle(df_over)"
   ]
  },
  {
   "cell_type": "code",
   "execution_count": 446,
   "id": "eb5d78fe",
   "metadata": {},
   "outputs": [],
   "source": [
    "X = df_over['url']\n",
    "y = df_over['result']"
   ]
  },
  {
   "cell_type": "markdown",
   "id": "dd6064d2",
   "metadata": {},
   "source": [
    "# text preprocessing"
   ]
  },
  {
   "cell_type": "code",
   "execution_count": 447,
   "id": "ecd86be8",
   "metadata": {},
   "outputs": [],
   "source": [
    "from keras.preprocessing.text import Tokenizer\n",
    "from keras.preprocessing import sequence"
   ]
  },
  {
   "cell_type": "code",
   "execution_count": 448,
   "id": "fb22368e",
   "metadata": {},
   "outputs": [],
   "source": [
    "text = X"
   ]
  },
  {
   "cell_type": "code",
   "execution_count": 449,
   "id": "2850ccc0",
   "metadata": {},
   "outputs": [],
   "source": [
    "Tokenizer = Tokenizer()"
   ]
  },
  {
   "cell_type": "code",
   "execution_count": 450,
   "id": "a0e8b553",
   "metadata": {},
   "outputs": [
    {
     "data": {
      "text/plain": [
       "416125"
      ]
     },
     "execution_count": 450,
     "metadata": {},
     "output_type": "execute_result"
    }
   ],
   "source": [
    "Tokenizer.fit_on_texts(text) \n",
    "Tokenizer_vocab_size = len(Tokenizer.word_index)+1\n",
    "Tokenizer_vocab_size"
   ]
  },
  {
   "cell_type": "code",
   "execution_count": 451,
   "id": "8a41b4c0",
   "metadata": {},
   "outputs": [
    {
     "data": {
      "text/plain": [
       "((691476,), (691476,))"
      ]
     },
     "execution_count": 451,
     "metadata": {},
     "output_type": "execute_result"
    }
   ],
   "source": [
    "X.shape, y.shape"
   ]
  },
  {
   "cell_type": "code",
   "execution_count": 452,
   "id": "a3ff218d",
   "metadata": {},
   "outputs": [],
   "source": [
    "from sklearn.model_selection import train_test_split\n",
    "\n",
    "X_train, X_val, y_train, y_val = train_test_split(X, y, test_size=0.4, random_state=42)"
   ]
  },
  {
   "cell_type": "code",
   "execution_count": 453,
   "id": "4bae4c9b",
   "metadata": {},
   "outputs": [
    {
     "data": {
      "text/plain": [
       "((414885,), (276591,))"
      ]
     },
     "execution_count": 453,
     "metadata": {},
     "output_type": "execute_result"
    }
   ],
   "source": [
    "X_train.shape, X_val.shape"
   ]
  },
  {
   "cell_type": "code",
   "execution_count": 454,
   "id": "f507810c",
   "metadata": {},
   "outputs": [],
   "source": [
    "X_train_encoded_words = Tokenizer.texts_to_sequences(X_train)\n",
    "X_val_encoded_words = Tokenizer.texts_to_sequences(X_val)"
   ]
  },
  {
   "cell_type": "code",
   "execution_count": 455,
   "id": "f4f5a05d",
   "metadata": {},
   "outputs": [
    {
     "data": {
      "text/plain": [
       "((414885, 100), (276591, 100))"
      ]
     },
     "execution_count": 455,
     "metadata": {},
     "output_type": "execute_result"
    }
   ],
   "source": [
    "X_train_encoded_padded_words = seq.pad_sequences(X_train_encoded_words, maxlen=100) \n",
    "X_val_encoded_padded_words = seq.pad_sequences(X_val_encoded_words, maxlen=100)\n",
    "\n",
    "X_train_encoded_padded_words.shape, X_val_encoded_padded_words.shape"
   ]
  },
  {
   "cell_type": "code",
   "execution_count": 456,
   "id": "c7bd954b",
   "metadata": {},
   "outputs": [
    {
     "data": {
      "text/plain": [
       "(array([[     0,      0,      0, ..., 175866,   5081,      1],\n",
       "        [     0,      0,      0, ...,    354,    169,  93164],\n",
       "        [     0,      0,      0, ...,      4,      9,      5],\n",
       "        ...,\n",
       "        [     0,      0,      0, ...,    668,    177,    186],\n",
       "        [     0,      0,      0, ...,     31,    261,   3461],\n",
       "        [     0,      0,      0, ...,    375,   8858,     11]]),\n",
       " array([[     0,      0,      0, ...,   7015,     16, 128164],\n",
       "        [     0,      0,      0, ...,  11215,    573, 185928],\n",
       "        [     0,      0,      0, ...,   2440,  21102, 193105],\n",
       "        ...,\n",
       "        [     0,      0,      0, ...,      6,   7413,   9584],\n",
       "        [     0,      0,      0, ...,     24, 115047,      6],\n",
       "        [     0,      0,      0, ...,    147,    144,  56795]]))"
      ]
     },
     "execution_count": 456,
     "metadata": {},
     "output_type": "execute_result"
    }
   ],
   "source": [
    "X_train_encoded_padded_words, X_val_encoded_padded_words"
   ]
  },
  {
   "cell_type": "markdown",
   "id": "2b68c082",
   "metadata": {},
   "source": [
    "# Model"
   ]
  },
  {
   "cell_type": "code",
   "execution_count": 457,
   "id": "16126fd6",
   "metadata": {},
   "outputs": [
    {
     "name": "stderr",
     "output_type": "stream",
     "text": [
      "D:\\Anaconda\\lib\\site-packages\\xgboost\\sklearn.py:1146: UserWarning: The use of label encoder in XGBClassifier is deprecated and will be removed in a future release. To remove this warning, do the following: 1) Pass option use_label_encoder=False when constructing XGBClassifier object; and 2) Encode your labels (y) as integers starting with 0, i.e. 0, 1, 2, ..., [num_class - 1].\n",
      "  warnings.warn(label_encoder_deprecation_msg, UserWarning)\n"
     ]
    },
    {
     "name": "stdout",
     "output_type": "stream",
     "text": [
      "[18:56:43] WARNING: C:/Users/Administrator/workspace/xgboost-win64_release_1.4.0/src/learner.cc:1095: Starting in XGBoost 1.3.0, the default evaluation metric used with the objective 'binary:logistic' was changed from 'error' to 'logloss'. Explicitly set eval_metric if you'd like to restore the old behavior.\n"
     ]
    }
   ],
   "source": [
    "# xgboost\n",
    "from xgboost import XGBClassifier\n",
    "from sklearn.metrics  import accuracy_score\n",
    "\n",
    "model = XGBClassifier().fit(X_train_encoded_padded_words , y_train)"
   ]
  },
  {
   "cell_type": "code",
   "execution_count": 458,
   "id": "16c4dcea",
   "metadata": {},
   "outputs": [],
   "source": [
    "ypred_xgb = model.predict(X_val_encoded_padded_words)"
   ]
  },
  {
   "cell_type": "code",
   "execution_count": 459,
   "id": "68bee9e5",
   "metadata": {},
   "outputs": [
    {
     "data": {
      "text/plain": [
       "array([1, 0, 0, 0, 1], dtype=int8)"
      ]
     },
     "execution_count": 459,
     "metadata": {},
     "output_type": "execute_result"
    }
   ],
   "source": [
    "np.array(y_val.head())"
   ]
  },
  {
   "cell_type": "code",
   "execution_count": 460,
   "id": "ecfc1e92",
   "metadata": {},
   "outputs": [
    {
     "data": {
      "text/plain": [
       "array([1, 0, 0, 0, 1], dtype=int8)"
      ]
     },
     "execution_count": 460,
     "metadata": {},
     "output_type": "execute_result"
    }
   ],
   "source": [
    "ypred_xgb[0:5]"
   ]
  },
  {
   "cell_type": "code",
   "execution_count": 461,
   "id": "bc9196cc",
   "metadata": {},
   "outputs": [
    {
     "name": "stdout",
     "output_type": "stream",
     "text": [
      "accuracy: 99.67\n"
     ]
    }
   ],
   "source": [
    "accuracy = accuracy_score(y_val, ypred_xgb)\n",
    "print(\"accuracy: {:.2f}\".format(accuracy*100))"
   ]
  },
  {
   "cell_type": "markdown",
   "id": "5b56adae",
   "metadata": {},
   "source": [
    "# Predictions"
   ]
  },
  {
   "cell_type": "code",
   "execution_count": 462,
   "id": "e0f2c81b",
   "metadata": {},
   "outputs": [],
   "source": [
    "# save the model and tokenizer\n",
    "import pickle\n",
    "pickle.dump(Tokenizer, open('models/tokenizer.pkl','wb'))\n",
    "pickle.dump(model, open('models/xgb_model.pkl','wb'))"
   ]
  },
  {
   "cell_type": "code",
   "execution_count": 463,
   "id": "66e1c5da",
   "metadata": {},
   "outputs": [],
   "source": [
    "# load the saved model  and tokenizer\n",
    "Tokenizer = pickle.load(open('models/tokenizer.pkl','rb'))\n",
    "saved_model = pickle.load(open('models/xgb_model.pkl','rb'))"
   ]
  },
  {
   "cell_type": "code",
   "execution_count": 464,
   "id": "1b01ea68",
   "metadata": {},
   "outputs": [],
   "source": [
    "def predict(text):\n",
    "    url = text\n",
    "    valid = validators.url(url)\n",
    "    if(valid==True):\n",
    "        \n",
    "        tokens = Tokenizer.texts_to_sequences([url])\n",
    "        tokens = sequence.pad_sequences(tokens, maxlen=100)\n",
    "        pred = saved_model.predict(np.array(tokens),)\n",
    "        classes = ['Benign url','Malicious url']\n",
    "        result = classes[pred[0]]\n",
    "        return result\n",
    "    else:\n",
    "        return (\"Entered url is Invalid\")"
   ]
  },
  {
   "cell_type": "code",
   "execution_count": 465,
   "id": "7a65f0dc",
   "metadata": {},
   "outputs": [
    {
     "data": {
      "text/plain": [
       "'Benign url'"
      ]
     },
     "execution_count": 465,
     "metadata": {},
     "output_type": "execute_result"
    }
   ],
   "source": [
    "predict(\"https://www.youtube.com/\")"
   ]
  },
  {
   "cell_type": "code",
   "execution_count": 466,
   "id": "bc32b725",
   "metadata": {},
   "outputs": [
    {
     "data": {
      "text/plain": [
       "'Benign url'"
      ]
     },
     "execution_count": 466,
     "metadata": {},
     "output_type": "execute_result"
    }
   ],
   "source": [
    "predict(\"https://www.w3schools.com/sql/sql_orderby.asp\")"
   ]
  },
  {
   "cell_type": "code",
   "execution_count": 467,
   "id": "ac4edfab",
   "metadata": {},
   "outputs": [
    {
     "data": {
      "text/plain": [
       "'Malicious url'"
      ]
     },
     "execution_count": 467,
     "metadata": {},
     "output_type": "execute_result"
    }
   ],
   "source": [
    "predict(\"https://insidethestorex.com/sd/\")"
   ]
  },
  {
   "cell_type": "code",
   "execution_count": 468,
   "id": "98fb7210",
   "metadata": {},
   "outputs": [
    {
     "data": {
      "text/plain": [
       "'Entered url is Invalid'"
      ]
     },
     "execution_count": 468,
     "metadata": {},
     "output_type": "execute_result"
    }
   ],
   "source": [
    "predict(\"http://i_am_not_url.com\")"
   ]
  },
  {
   "cell_type": "code",
   "execution_count": 469,
   "id": "699463e9",
   "metadata": {},
   "outputs": [
    {
     "data": {
      "text/plain": [
       "'Malicious url'"
      ]
     },
     "execution_count": 469,
     "metadata": {},
     "output_type": "execute_result"
    }
   ],
   "source": [
    "predict(\"https://1fichier.com/?0ewdpuct0nz0ck46vi6h\")"
   ]
  },
  {
   "cell_type": "code",
   "execution_count": 470,
   "id": "7c3a2253",
   "metadata": {},
   "outputs": [
    {
     "data": {
      "text/plain": [
       "'Malicious url'"
      ]
     },
     "execution_count": 470,
     "metadata": {},
     "output_type": "execute_result"
    }
   ],
   "source": [
    "predict(\"https://skidrowreloaded.ufile.io/k1mfa3fi\")"
   ]
  },
  {
   "cell_type": "code",
   "execution_count": null,
   "id": "b970992a",
   "metadata": {},
   "outputs": [],
   "source": []
  },
  {
   "cell_type": "code",
   "execution_count": null,
   "id": "2d405de0",
   "metadata": {},
   "outputs": [],
   "source": []
  }
 ],
 "metadata": {
  "kernelspec": {
   "display_name": "Python 3",
   "language": "python",
   "name": "python3"
  },
  "language_info": {
   "codemirror_mode": {
    "name": "ipython",
    "version": 3
   },
   "file_extension": ".py",
   "mimetype": "text/x-python",
   "name": "python",
   "nbconvert_exporter": "python",
   "pygments_lexer": "ipython3",
   "version": "3.8.5"
  }
 },
 "nbformat": 4,
 "nbformat_minor": 5
}
